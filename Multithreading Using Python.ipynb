{
 "cells": [
  {
   "cell_type": "code",
   "execution_count": 1,
   "id": "e755dd3c",
   "metadata": {},
   "outputs": [
    {
     "name": "stderr",
     "output_type": "stream",
     "text": [
      "Exception in thread Thread-10:\n",
      "Traceback (most recent call last):\n",
      "  File \"C:\\Users\\DELL\\anaconda3\\lib\\threading.py\", line 980, in _bootstrap_inner\n",
      "    self.run()\n",
      "  File \"C:\\Users\\DELL\\anaconda3\\lib\\threading.py\", line 917, in run\n",
      "    self._target(*self._args, **self._kwargs)\n",
      "  File \"C:\\Users\\DELL\\AppData\\Local\\Temp\\ipykernel_14636\\2445956009.py\", line 14, in run\n",
      "  File \"C:\\Users\\DELL\\anaconda3\\lib\\tkinter\\__init__.py\", line 1646, in configure\n",
      "    return self._configure('configure', cnf, kw)\n",
      "  File \"C:\\Users\\DELL\\anaconda3\\lib\\tkinter\\__init__.py\", line 1636, in _configure\n",
      "    self.tk.call(_flatten((self._w, cmd)) + self._options(cnf))\n",
      "RuntimeError: main thread is not in main loop\n"
     ]
    }
   ],
   "source": [
    "import random\n",
    "import threading\n",
    "import time\n",
    "import tkinter as tk\n",
    "import string\n",
    "\n",
    "root = tk.Tk()\n",
    "root.title(\"Random Numbers\")\n",
    "\n",
    "\n",
    "def run(name,low,high,refreshrate,label):\n",
    "        while True:\n",
    "            result=random.randint(low ,high)\n",
    "            label.config(text=f\"{name}: {result}\")\n",
    "            time.sleep(refreshrate)\n",
    "\n",
    "\n",
    "labels = []\n",
    "for i in range(3):\n",
    "    for j in range(2):\n",
    "        label = tk.Label(root, font=(\"sans-serif\", 20))\n",
    "        label.grid(row=i, column=j, padx=10, pady=10)\n",
    "        labels.append(label)\n",
    "\n",
    "\n",
    "\n",
    "\n",
    "\n",
    "t1= threading.Thread(target= run ,args=(\"Thread1:\", 10, 20, 10, labels[0]))\n",
    "t2= threading.Thread(target= run ,args=(\"Thread2:\", -10, 10, 20, labels[1]))\n",
    "t3= threading.Thread(target= run ,args=(\"Thread3:\", -100, 0, 8, labels[2]))\n",
    "t4= threading.Thread(target= run ,args=(\"Thread4:\", 0, 20, 12, labels[3]))\n",
    "t5= threading.Thread(target= run ,args=(\"Thread5:\", -40, 40, 16, labels[4]))\n",
    "t6= threading.Thread(target= run ,args=(\"Thread6:\", 100, 200, 14, labels[5]))\n",
    "\n",
    "threads = [\n",
    "    t1,t2,t3,t4,t5,t6\n",
    "]\n",
    "for thread in threads:\n",
    "    thread.start()\n",
    "\n",
    "\n",
    "root.mainloop()"
   ]
  }
 ],
 "metadata": {
  "kernelspec": {
   "display_name": "Python 3 (ipykernel)",
   "language": "python",
   "name": "python3"
  },
  "language_info": {
   "codemirror_mode": {
    "name": "ipython",
    "version": 3
   },
   "file_extension": ".py",
   "mimetype": "text/x-python",
   "name": "python",
   "nbconvert_exporter": "python",
   "pygments_lexer": "ipython3",
   "version": "3.9.16"
  }
 },
 "nbformat": 4,
 "nbformat_minor": 5
}
